{
 "cells": [
  {
   "cell_type": "code",
   "execution_count": 2,
   "id": "a5458e9b",
   "metadata": {},
   "outputs": [
    {
     "name": "stdout",
     "output_type": "stream",
     "text": [
      "Defaulting to user installation because normal site-packages is not writeable"
     ]
    },
    {
     "name": "stderr",
     "output_type": "stream",
     "text": [
      "\n",
      "[notice] A new release of pip available: 22.3.1 -> 25.0.1\n",
      "[notice] To update, run: python.exe -m pip install --upgrade pip\n"
     ]
    },
    {
     "name": "stdout",
     "output_type": "stream",
     "text": [
      "\n",
      "Requirement already satisfied: opencv-python in c:\\users\\usuario\\appdata\\roaming\\python\\python311\\site-packages (4.11.0.86)\n",
      "Requirement already satisfied: pillow in c:\\users\\usuario\\appdata\\roaming\\python\\python311\\site-packages (10.3.0)\n",
      "Requirement already satisfied: numpy>=1.21.2 in c:\\users\\usuario\\appdata\\roaming\\python\\python311\\site-packages (from opencv-python) (1.24.3)\n"
     ]
    }
   ],
   "source": [
    "!pip install opencv-python pillow"
   ]
  },
  {
   "cell_type": "code",
   "execution_count": 2,
   "id": "e3eeabe5",
   "metadata": {},
   "outputs": [],
   "source": [
    "import numpy as np\n",
    "from PIL import Image\n",
    "import cv2\n",
    "import matplotlib.pyplot as plt\n",
    "import copy"
   ]
  },
  {
   "cell_type": "code",
   "execution_count": 6,
   "id": "9341d83c",
   "metadata": {},
   "outputs": [],
   "source": [
    "#Usar OpenCV para corregir la perspectiva de una foto.\n",
    "\n",
    "\n",
    "puntos =[]\n",
    "\n",
    "# Se me ocurrio hacer una funcion que use el evento de open cv de capturar los clicks del mouse para elegir los puntos para la correcion de perspectiva.\n",
    "\n",
    "def seleccionar_puntos(evento, x, y, flags, param):\n",
    "    if evento == cv2.EVENT_LBUTTONDOWN and len(puntos) < 4:\n",
    "      puntos.append((x, y))\n",
    "      cv2.circle(image, (x, y), 5, (0, 0, 255), -1)\n",
    "      cv2.imshow('Clickea 4 ptos en sentido horario u antihorario', image)\n",
    "\n",
    "\n",
    "image = cv2.imread('raptor.jpg')\n",
    "imagen_original = image.copy()\n",
    "\n",
    "cv2.imshow(\"Selecciona 4 puntos\", image)\n",
    "cv2.setMouseCallback(\"Selecciona 4 puntos\", seleccionar_puntos)\n",
    "\n",
    "while True:\n",
    "    cv2.imshow(\"Selecciona 4 puntos\", image)\n",
    "    if len(puntos) == 4:\n",
    "        break\n",
    "    if cv2.waitKey(1) & 0xFF == 27:\n",
    "        break\n",
    "\n",
    "cv2.destroyAllWindows()\n",
    "\n",
    "puntos_origen = np.float32(puntos)\n",
    "puntos_destino = np.float32([[0, 0], [800, 0], [0, 800], [800, 800]])\n",
    "\n",
    "matriz = cv2.getPerspectiveTransform(puntos_origen, puntos_destino)\n",
    "imagen_transformada = cv2.warpPerspective(imagen_original, matriz, (800, 800))\n",
    "\n",
    "cv2.imshow(\"Imagen Transformada\", imagen_transformada)\n",
    "cv2.waitKey(0)\n",
    "cv2.destroyAllWindows()\n"
   ]
  },
  {
   "cell_type": "code",
   "execution_count": null,
   "id": "7a2ee2b6",
   "metadata": {},
   "outputs": [],
   "source": []
  },
  {
   "cell_type": "code",
   "execution_count": null,
   "id": "4f0c8b46",
   "metadata": {},
   "outputs": [],
   "source": []
  }
 ],
 "metadata": {
  "kernelspec": {
   "display_name": "Python 3 (ipykernel)",
   "language": "python",
   "name": "python3"
  },
  "language_info": {
   "codemirror_mode": {
    "name": "ipython",
    "version": 3
   },
   "file_extension": ".py",
   "mimetype": "text/x-python",
   "name": "python",
   "nbconvert_exporter": "python",
   "pygments_lexer": "ipython3",
   "version": "3.11.2"
  }
 },
 "nbformat": 4,
 "nbformat_minor": 5
}
